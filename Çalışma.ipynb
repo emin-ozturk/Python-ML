{
  "cells": [
    {
      "cell_type": "markdown",
      "metadata": {
        "id": "view-in-github",
        "colab_type": "text"
      },
      "source": [
        "<a href=\"https://colab.research.google.com/github/emin-ozturk/Python-ML/blob/main/%C3%87al%C4%B1%C5%9Fma.ipynb\" target=\"_parent\"><img src=\"https://colab.research.google.com/assets/colab-badge.svg\" alt=\"Open In Colab\"/></a>"
      ]
    },
    {
      "cell_type": "code",
      "execution_count": null,
      "metadata": {
        "colab": {
          "base_uri": "https://localhost:8080/"
        },
        "id": "D8AvH0mP_GvJ",
        "outputId": "0cde6841-b95c-4b51-be20-6672d6f95f98"
      },
      "outputs": [
        {
          "name": "stdout",
          "output_type": "stream",
          "text": [
            "Looking in indexes: https://pypi.org/simple, https://us-python.pkg.dev/colab-wheels/public/simple/\n",
            "Requirement already satisfied: tabulate in /usr/local/lib/python3.10/dist-packages (0.8.10)\n"
          ]
        }
      ],
      "source": [
        "%pip install tabulate"
      ]
    },
    {
      "cell_type": "code",
      "execution_count": 49,
      "metadata": {
        "id": "IZSixjfSL3rS"
      },
      "outputs": [],
      "source": [
        "from sklearn.datasets import load_iris\n",
        "from sklearn.datasets import load_wine\n",
        "from sklearn.datasets import load_digits\n",
        "from sklearn.model_selection import train_test_split\n",
        "import numpy as np\n",
        "import pandas as pd\n",
        "from sklearn.ensemble import RandomForestClassifier\n",
        "from sklearn.ensemble import ExtraTreesClassifier\n",
        "from sklearn.tree import DecisionTreeClassifier\n",
        "from sklearn.neighbors import KNeighborsClassifier\n",
        "from sklearn import svm\n",
        "from sklearn.metrics import accuracy_score\n",
        "from tabulate import tabulate"
      ]
    },
    {
      "cell_type": "code",
      "execution_count": 14,
      "metadata": {
        "id": "lPFHiWiq9OnC"
      },
      "outputs": [],
      "source": [
        "def get_X_and_Y(data):\n",
        "  X = pd.DataFrame(data=data['data'], columns=data['feature_names'])\n",
        "  Y = data['target']\n",
        "  return X,Y"
      ]
    },
    {
      "cell_type": "code",
      "execution_count": 15,
      "metadata": {
        "id": "LjP8acXY98Ky"
      },
      "outputs": [],
      "source": [
        "def fit_model(model):\n",
        "  model.fit(X_train, Y_train)\n",
        "  y_pred = model.predict(X_test)\n",
        "  accuracy = accuracy_score(Y_test, y_pred)\n",
        "  return accuracy"
      ]
    },
    {
      "cell_type": "code",
      "execution_count": 16,
      "metadata": {
        "id": "zpHAqtLG-WwU"
      },
      "outputs": [],
      "source": [
        "models = [\n",
        "  {'name': 'RandomForestClassifier', 'model': RandomForestClassifier(n_estimators=10, random_state=42)},\n",
        "  {'name': 'DecisionTreeClassifier', 'model': DecisionTreeClassifier(max_depth=None, min_samples_split=2, random_state=42)},\n",
        "  {'name': 'ExtraTreesClassifier', 'model': ExtraTreesClassifier(n_estimators=10, max_depth=None, min_samples_split=2, random_state=0)},\n",
        "  {'name': 'KNeighborsClassifier', 'model': KNeighborsClassifier(n_neighbors=3)},\n",
        "  {'name': 'SVC', 'model': svm.SVC()}\n",
        "]"
      ]
    },
    {
      "cell_type": "code",
      "execution_count": 48,
      "metadata": {
        "id": "qMBH1QMQ-bGF"
      },
      "outputs": [],
      "source": [
        "dataset = [\n",
        "    ['İris', load_iris()],\n",
        "    ['Wine', load_wine()],\n",
        "    ['Digits', load_digits()]\n",
        "]"
      ]
    },
    {
      "cell_type": "code",
      "execution_count": 46,
      "metadata": {
        "id": "QPJqgIRA-ATq"
      },
      "outputs": [],
      "source": [
        "tempArray = []\n",
        "accuracyArray = []\n",
        "for data in dataset:\n",
        "  tempArray = []\n",
        "  tempArray.append(data[0])\n",
        "  for model in models:\n",
        "    X, Y = get_X_and_Y(data[1])\n",
        "    X_train, X_test, Y_train, Y_test = train_test_split(X, Y, test_size=0.4, random_state=42)\n",
        "    acc = fit_model(model['model'])\n",
        "    tempArray.append(round(acc, 5))\n",
        "  accuracyArray.append(tempArray)"
      ]
    },
    {
      "cell_type": "code",
      "execution_count": 47,
      "metadata": {
        "id": "bSRLKLSKNfCB",
        "colab": {
          "base_uri": "https://localhost:8080/"
        },
        "outputId": "d7d735b6-093f-4fc4-f49e-228e2e459e99"
      },
      "outputs": [
        {
          "output_type": "stream",
          "name": "stdout",
          "text": [
            "| Dataset   |   RandomForestClassifier |   DecisionTreeClassifier |   ExtraTreesClassifier |   KNeighborsClassifier |     SVC |\n",
            "|:----------|-------------------------:|-------------------------:|-----------------------:|-----------------------:|--------:|\n",
            "| İris      |                  0.98333 |                  0.96667 |                0.98333 |                0.98333 | 1       |\n",
            "| Wine      |                  0.98611 |                  0.94444 |                0.98611 |                0.66667 | 0.65278 |\n",
            "| Digits    |                  0.95132 |                  0.8484  |                0.95549 |                0.98887 | 0.98609 |\n"
          ]
        }
      ],
      "source": [
        "headers = [model['name'] for model in models]\n",
        "headers.insert(0, 'Dataset')\n",
        "\n",
        "print(tabulate(accuracyArray, headers=headers, tablefmt=\"pipe\"))"
      ]
    }
  ],
  "metadata": {
    "colab": {
      "provenance": [],
      "authorship_tag": "ABX9TyNQWiWNp5h/hyFlaf4k4Bzc",
      "include_colab_link": true
    },
    "kernelspec": {
      "display_name": "Python 3",
      "name": "python3"
    },
    "language_info": {
      "name": "python"
    }
  },
  "nbformat": 4,
  "nbformat_minor": 0
}